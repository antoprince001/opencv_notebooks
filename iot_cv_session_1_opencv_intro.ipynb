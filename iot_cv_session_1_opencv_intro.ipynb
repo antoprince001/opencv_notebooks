{
  "nbformat": 4,
  "nbformat_minor": 0,
  "metadata": {
    "colab": {
      "provenance": [],
      "authorship_tag": "ABX9TyO04u8T8DaLALwrGf64+aW4",
      "include_colab_link": true
    },
    "kernelspec": {
      "name": "python3",
      "display_name": "Python 3"
    },
    "language_info": {
      "name": "python"
    }
  },
  "cells": [
    {
      "cell_type": "markdown",
      "metadata": {
        "id": "view-in-github",
        "colab_type": "text"
      },
      "source": [
        "<a href=\"https://colab.research.google.com/github/antoprince001/opencv_notebooks/blob/main/iot_cv_session_1_opencv_intro.ipynb\" target=\"_parent\"><img src=\"https://colab.research.google.com/assets/colab-badge.svg\" alt=\"Open In Colab\"/></a>"
      ]
    },
    {
      "cell_type": "code",
      "execution_count": 6,
      "metadata": {
        "id": "Djc8FqNii46e"
      },
      "outputs": [],
      "source": [
        "#imports\n",
        "\n",
        "import cv2\n",
        "import matplotlib.pyplot as plt\n",
        "import numpy as np"
      ]
    },
    {
      "cell_type": "code",
      "source": [
        "imgv = np.array([\n",
        "    [100, 100, 0, 0, 0, 100, 100],\n",
        "    [100, 0, 100, 100, 100, 0, 100],\n",
        "    [0, 100, 255, 100, 255, 100, 0],\n",
        "    [0, 100, 100, 100, 100, 100, 0],\n",
        "    [0, 100, 0, 100, 0, 100, 0],\n",
        "    [0, 100, 100, 0, 100, 100, 0],\n",
        "    [100, 0, 100, 100, 100, 0, 100],\n",
        "    [100, 0, 0, 0, 0, 100, 100]],\n",
        "    dtype=np.uint8)"
      ],
      "metadata": {
        "id": "QPpphSSwjHPS"
      },
      "execution_count": 2,
      "outputs": []
    },
    {
      "cell_type": "code",
      "source": [
        "imgv = cv2.resize(imgv, (500, 500), interpolation=cv2.INTER_NEAREST)\n",
        "plt.imshow(imgv)"
      ],
      "metadata": {
        "colab": {
          "base_uri": "https://localhost:8080/",
          "height": 452
        },
        "id": "OH8vL0jUjPCV",
        "outputId": "9bde907b-0990-429f-e174-8a7bdd1e4af2"
      },
      "execution_count": 7,
      "outputs": [
        {
          "output_type": "execute_result",
          "data": {
            "text/plain": [
              "<matplotlib.image.AxesImage at 0x7da5449c9ed0>"
            ]
          },
          "metadata": {},
          "execution_count": 7
        },
        {
          "output_type": "display_data",
          "data": {
            "text/plain": [
              "<Figure size 640x480 with 1 Axes>"
            ],
            "image/png": "[encoded data removed]"
          },
          "metadata": {}
        }
      ]
    },
    {
      "cell_type": "markdown",
      "source": [
        "If running in python file,"
      ],
      "metadata": {
        "id": "_aF-fCYSjgPc"
      }
    },
    {
      "cell_type": "code",
      "source": [
        "cv2.imshow(\"demo\", imgv)\n",
        "cv2.waitKey(0)\n",
        "cv2.destroyAllWindows()"
      ],
      "metadata": {
        "id": "s_a3buEVjQYc"
      },
      "execution_count": 8,
      "outputs": []
    }
  ]
}